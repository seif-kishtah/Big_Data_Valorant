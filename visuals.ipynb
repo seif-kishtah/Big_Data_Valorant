{
 "cells": [
  {
   "cell_type": "code",
   "execution_count": 9,
   "metadata": {},
   "outputs": [],
   "source": [
    "##imports\n",
    "import csv\n",
    "import pandas as pd\n",
    "import matplotlib.pyplot as plt\n",
    "import os"
   ]
  },
  {
   "cell_type": "code",
   "execution_count": 10,
   "metadata": {},
   "outputs": [
    {
     "name": "stdout",
     "output_type": "stream",
     "text": [
      "output.csv\n"
     ]
    }
   ],
   "source": [
    "def filter_empty_rows(input_file, output_file):\n",
    "    with open(input_file, 'r', newline='') as csvfile:\n",
    "        csv_reader = csv.reader(csvfile)\n",
    "        rows = [row for row in csv_reader if any(field.strip() for field in row)]\n",
    "\n",
    "    with open(output_file, 'w', newline='') as csvfile:\n",
    "        csv_writer = csv.writer(csvfile)\n",
    "        csv_writer.writerows(rows)\n",
    "\n",
    "# Example usage:\n",
    "input_file = \"finaldata.csv\"\n",
    "output_file = \"output.csv\"\n",
    "\n",
    "\n",
    "filter_empty_rows(input_file, output_file)\n",
    "print(output_file)\n"
   ]
  },
  {
   "cell_type": "code",
   "execution_count": 11,
   "metadata": {},
   "outputs": [],
   "source": [
    "###Plotting"
   ]
  },
  {
   "cell_type": "code",
   "execution_count": 13,
   "metadata": {},
   "outputs": [],
   "source": [
    "\n",
    "\n",
    "def plot_pie_charts(file_path, output_folder):\n",
    "    # Read the CSV file into a DataFrame\n",
    "    df = pd.read_csv(file_path)\n",
    "    \n",
    "    grouped = df.groupby(['TeamName', 'RoundType']).sum()\n",
    "    \n",
    "    grouped.fillna(0, inplace=True)\n",
    "    \n",
    "    if not os.path.exists(output_folder):\n",
    "        os.makedirs(output_folder)\n",
    "    \n",
    "    team_names = df['TeamName'].unique()\n",
    "    round_types = df['RoundType'].unique()\n",
    "    \n",
    "    # Plot pie charts for each TeamName\n",
    "    for team_name in team_names:\n",
    "        # Create subplots for each TeamName\n",
    "        num_round_types = len(round_types)\n",
    "        num_rows = (num_round_types + 1) // 2  # Calculate number of rows for subplots\n",
    "        fig, axs = plt.subplots(num_rows, 2, figsize=(12, 6 * num_rows),fontsize=25)\n",
    "        fig.suptitle(f'{team_name} - Wins/Losses by RoundType', fontsize=25)\n",
    "        \n",
    "        for i, round_type in enumerate(round_types):\n",
    "            ax = axs[i // 2, i % 2] if num_rows > 1 else axs[i]\n",
    "            data = grouped.loc[(team_name, round_type)]\n",
    "            labels = ['Lost', 'Won']\n",
    "            sizes = [data['Lost'], data['Won']]\n",
    "            colors = ['red', 'green']\n",
    "            \n",
    "            if any(sizes):\n",
    "                ax.pie(sizes, labels=labels, colors=colors, autopct='%1.1f%%', startangle=140,textprops={'fontsize': 25})\n",
    "                ax.set_title(f'{round_type}')\n",
    "                ax.axis('equal')\n",
    "            else:\n",
    "                ax.axis('off')  # Hide axes if no data\n",
    "        \n",
    "        # Adjust layout\n",
    "        plt.tight_layout(rect=[0, 0.03, 1, 0.95])\n",
    "        \n",
    "        # Save the plot to the output folder\n",
    "        plt.savefig(os.path.join(output_folder, f'{team_name}_pie_chart.png'))\n",
    "        plt.close()  # Close the figure to free memory\n",
    "\n",
    "# Example usage:\n",
    "plot_pie_charts(\"output.csv\", \"pie_charts_folder\")\n"
   ]
  }
 ],
 "metadata": {
  "kernelspec": {
   "display_name": ".pyspark-env",
   "language": "python",
   "name": "python3"
  },
  "language_info": {
   "codemirror_mode": {
    "name": "ipython",
    "version": 3
   },
   "file_extension": ".py",
   "mimetype": "text/x-python",
   "name": "python",
   "nbconvert_exporter": "python",
   "pygments_lexer": "ipython3",
   "version": "3.11.4"
  }
 },
 "nbformat": 4,
 "nbformat_minor": 2
}
